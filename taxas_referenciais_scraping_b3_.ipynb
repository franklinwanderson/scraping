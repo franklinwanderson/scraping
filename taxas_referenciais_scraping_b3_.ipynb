{
  "nbformat": 4,
  "nbformat_minor": 0,
  "metadata": {
    "colab": {
      "name": "taxas_referenciais_scraping_b3_.ipynb",
      "provenance": [],
      "collapsed_sections": [
        "bP5L2DHOFz2h",
        "WFEGZqkRoZ19"
      ],
      "authorship_tag": "ABX9TyOVvBHyQFtF2OVPqHNF4w6q",
      "include_colab_link": true
    },
    "kernelspec": {
      "name": "python3",
      "display_name": "Python 3"
    },
    "language_info": {
      "name": "python"
    }
  },
  "cells": [
    {
      "cell_type": "markdown",
      "metadata": {
        "id": "view-in-github",
        "colab_type": "text"
      },
      "source": [
        "<a href=\"https://colab.research.google.com/github/franklinwanderson/scraping/blob/main/taxas_referenciais_scraping_b3_.ipynb\" target=\"_parent\"><img src=\"https://colab.research.google.com/assets/colab-badge.svg\" alt=\"Open In Colab\"/></a>"
      ]
    },
    {
      "cell_type": "markdown",
      "metadata": {
        "id": "bP5L2DHOFz2h"
      },
      "source": [
        "# Bibliotecas"
      ]
    },
    {
      "cell_type": "code",
      "metadata": {
        "id": "a2uzxYLasLKy",
        "colab": {
          "base_uri": "https://localhost:8080/"
        },
        "outputId": "de702c80-d2c4-46ab-891b-3c0ef63847ef"
      },
      "source": [
        "!pip install -q kora"
      ],
      "execution_count": 1,
      "outputs": [
        {
          "output_type": "stream",
          "text": [
            "\u001b[K     |████████████████████████████████| 61kB 3.5MB/s \n",
            "\u001b[K     |████████████████████████████████| 61kB 5.2MB/s \n",
            "\u001b[?25h"
          ],
          "name": "stdout"
        }
      ]
    },
    {
      "cell_type": "code",
      "metadata": {
        "id": "xdpp8G8DsKsi"
      },
      "source": [
        "import pandas as pd\n",
        "from time import sleep\n",
        "from kora.selenium import wd\n",
        "import ssl\n",
        "from datetime import date, datetime, timedelta\n",
        "ssl._create_default_https_context = ssl._create_unverified_context"
      ],
      "execution_count": 2,
      "outputs": []
    },
    {
      "cell_type": "markdown",
      "metadata": {
        "id": "Px3JMVDbF4zY"
      },
      "source": [
        "# Baixando Dados"
      ]
    },
    {
      "cell_type": "markdown",
      "metadata": {
        "id": "WFEGZqkRoZ19"
      },
      "source": [
        "> ### Função para Scraping"
      ]
    },
    {
      "cell_type": "code",
      "metadata": {
        "id": "nevFYl6z9Aae"
      },
      "source": [
        "def BuscaB3(data = (date.today() - timedelta(days=1)).strftime(\"%Y-%m-%d\"), TipoTaxa='PRE', espera=3):\n",
        "\n",
        "  try: \n",
        "    url = f'http://www2.bmf.com.br/pages/portal/bmfbovespa/lumis/lum-taxas-referenciais-bmf-ptBR.asp?Data={date.fromisoformat(data).strftime(\"%d/%m/%Y\")}&Data1={date.fromisoformat(data).strftime(\"%Y%m%d\")}&slcTaxa={TipoTaxa}'\n",
        "    wd.get(url)\n",
        "    wd.find_element_by_link_text('Download').click()\n",
        "    sleep(espera)\n",
        "    arquivos= !ls -1t *.xls\n",
        "    df = pd.read_html(arquivos[0].replace(\"'\",''), encoding='ISO-8859-1', thousands='.', decimal=',' )[0]\n",
        "    df.columns = ['Dias_Corridos', 'Curva_252', 'Curva_360']\n",
        "    df.loc[:,'Data'] = pd.to_datetime(data)\n",
        "    df.set_index('Data', inplace=True)\n",
        "    df.dropna(inplace = True)\n",
        "    \n",
        "  except:\n",
        "    df = pd.DataFrame()\n",
        "\n",
        "  return df\n",
        "\n",
        " "
      ],
      "execution_count": 3,
      "outputs": []
    },
    {
      "cell_type": "markdown",
      "metadata": {
        "id": "Px9hnbh_oi0U"
      },
      "source": [
        "> ### Rodando scraping para 1 dia"
      ]
    },
    {
      "cell_type": "code",
      "metadata": {
        "colab": {
          "base_uri": "https://localhost:8080/",
          "height": 450
        },
        "id": "25tvU4oUojGR",
        "outputId": "a4a59ead-0fa8-433d-f3a3-0bb8eb5d5b7e"
      },
      "source": [
        "df = BuscaB3(data = '2021-06-16', TipoTaxa = 'PRE', espera = 1.5)\n",
        "df "
      ],
      "execution_count": 7,
      "outputs": [
        {
          "output_type": "execute_result",
          "data": {
            "text/html": [
              "<div>\n",
              "<style scoped>\n",
              "    .dataframe tbody tr th:only-of-type {\n",
              "        vertical-align: middle;\n",
              "    }\n",
              "\n",
              "    .dataframe tbody tr th {\n",
              "        vertical-align: top;\n",
              "    }\n",
              "\n",
              "    .dataframe thead th {\n",
              "        text-align: right;\n",
              "    }\n",
              "</style>\n",
              "<table border=\"1\" class=\"dataframe\">\n",
              "  <thead>\n",
              "    <tr style=\"text-align: right;\">\n",
              "      <th></th>\n",
              "      <th>Dias_Corridos</th>\n",
              "      <th>Curva_252</th>\n",
              "      <th>Curva_360</th>\n",
              "    </tr>\n",
              "    <tr>\n",
              "      <th>Data</th>\n",
              "      <th></th>\n",
              "      <th></th>\n",
              "      <th></th>\n",
              "    </tr>\n",
              "  </thead>\n",
              "  <tbody>\n",
              "    <tr>\n",
              "      <th>2021-06-16</th>\n",
              "      <td>1.0</td>\n",
              "      <td>3.40</td>\n",
              "      <td>0.00</td>\n",
              "    </tr>\n",
              "    <tr>\n",
              "      <th>2021-06-16</th>\n",
              "      <td>2.0</td>\n",
              "      <td>3.79</td>\n",
              "      <td>5.46</td>\n",
              "    </tr>\n",
              "    <tr>\n",
              "      <th>2021-06-16</th>\n",
              "      <td>7.0</td>\n",
              "      <td>4.03</td>\n",
              "      <td>4.12</td>\n",
              "    </tr>\n",
              "    <tr>\n",
              "      <th>2021-06-16</th>\n",
              "      <td>13.0</td>\n",
              "      <td>4.10</td>\n",
              "      <td>4.06</td>\n",
              "    </tr>\n",
              "    <tr>\n",
              "      <th>2021-06-16</th>\n",
              "      <td>14.0</td>\n",
              "      <td>4.11</td>\n",
              "      <td>4.20</td>\n",
              "    </tr>\n",
              "    <tr>\n",
              "      <th>...</th>\n",
              "      <td>...</td>\n",
              "      <td>...</td>\n",
              "      <td>...</td>\n",
              "    </tr>\n",
              "    <tr>\n",
              "      <th>2021-06-16</th>\n",
              "      <td>10288.0</td>\n",
              "      <td>9.70</td>\n",
              "      <td>9.52</td>\n",
              "    </tr>\n",
              "    <tr>\n",
              "      <th>2021-06-16</th>\n",
              "      <td>10471.0</td>\n",
              "      <td>9.70</td>\n",
              "      <td>9.53</td>\n",
              "    </tr>\n",
              "    <tr>\n",
              "      <th>2021-06-16</th>\n",
              "      <td>10652.0</td>\n",
              "      <td>9.71</td>\n",
              "      <td>9.53</td>\n",
              "    </tr>\n",
              "    <tr>\n",
              "      <th>2021-06-16</th>\n",
              "      <td>10800.0</td>\n",
              "      <td>9.71</td>\n",
              "      <td>9.54</td>\n",
              "    </tr>\n",
              "    <tr>\n",
              "      <th>2021-06-16</th>\n",
              "      <td>12388.0</td>\n",
              "      <td>9.76</td>\n",
              "      <td>9.58</td>\n",
              "    </tr>\n",
              "  </tbody>\n",
              "</table>\n",
              "<p>276 rows × 3 columns</p>\n",
              "</div>"
            ],
            "text/plain": [
              "            Dias_Corridos  Curva_252  Curva_360\n",
              "Data                                           \n",
              "2021-06-16            1.0       3.40       0.00\n",
              "2021-06-16            2.0       3.79       5.46\n",
              "2021-06-16            7.0       4.03       4.12\n",
              "2021-06-16           13.0       4.10       4.06\n",
              "2021-06-16           14.0       4.11       4.20\n",
              "...                   ...        ...        ...\n",
              "2021-06-16        10288.0       9.70       9.52\n",
              "2021-06-16        10471.0       9.70       9.53\n",
              "2021-06-16        10652.0       9.71       9.53\n",
              "2021-06-16        10800.0       9.71       9.54\n",
              "2021-06-16        12388.0       9.76       9.58\n",
              "\n",
              "[276 rows x 3 columns]"
            ]
          },
          "metadata": {
            "tags": []
          },
          "execution_count": 7
        }
      ]
    },
    {
      "cell_type": "markdown",
      "metadata": {
        "id": "jKr5H6q0pJus"
      },
      "source": [
        "\n",
        "> ### Rodando scraping para um período"
      ]
    },
    {
      "cell_type": "code",
      "metadata": {
        "colab": {
          "base_uri": "https://localhost:8080/",
          "height": 450
        },
        "id": "Nf44ZSa6_8lG",
        "outputId": "9b1acede-b86c-4205-dce1-8c6a464594b7"
      },
      "source": [
        "data_inicial = '6/4/2021' #mes / dia / ano\n",
        "data_final = '6/16/2021' #mes / dia / ano\n",
        "\n",
        "df = pd.DataFrame()\n",
        "\n",
        "for d in pd.bdate_range(start = data_inicial, end = data_final):\n",
        "  df = df.append(BuscaB3(data = d.strftime(\"%Y-%m-%d\"), TipoTaxa = 'PRE', espera = 3))\n",
        "\n",
        "df"
      ],
      "execution_count": 8,
      "outputs": [
        {
          "output_type": "execute_result",
          "data": {
            "text/html": [
              "<div>\n",
              "<style scoped>\n",
              "    .dataframe tbody tr th:only-of-type {\n",
              "        vertical-align: middle;\n",
              "    }\n",
              "\n",
              "    .dataframe tbody tr th {\n",
              "        vertical-align: top;\n",
              "    }\n",
              "\n",
              "    .dataframe thead th {\n",
              "        text-align: right;\n",
              "    }\n",
              "</style>\n",
              "<table border=\"1\" class=\"dataframe\">\n",
              "  <thead>\n",
              "    <tr style=\"text-align: right;\">\n",
              "      <th></th>\n",
              "      <th>Dias_Corridos</th>\n",
              "      <th>Curva_252</th>\n",
              "      <th>Curva_360</th>\n",
              "    </tr>\n",
              "    <tr>\n",
              "      <th>Data</th>\n",
              "      <th></th>\n",
              "      <th></th>\n",
              "      <th></th>\n",
              "    </tr>\n",
              "  </thead>\n",
              "  <tbody>\n",
              "    <tr>\n",
              "      <th>2021-06-04</th>\n",
              "      <td>3.0</td>\n",
              "      <td>3.40</td>\n",
              "      <td>0.00</td>\n",
              "    </tr>\n",
              "    <tr>\n",
              "      <th>2021-06-04</th>\n",
              "      <td>7.0</td>\n",
              "      <td>3.74</td>\n",
              "      <td>3.82</td>\n",
              "    </tr>\n",
              "    <tr>\n",
              "      <th>2021-06-04</th>\n",
              "      <td>11.0</td>\n",
              "      <td>3.76</td>\n",
              "      <td>3.41</td>\n",
              "    </tr>\n",
              "    <tr>\n",
              "      <th>2021-06-04</th>\n",
              "      <td>12.0</td>\n",
              "      <td>3.77</td>\n",
              "      <td>3.59</td>\n",
              "    </tr>\n",
              "    <tr>\n",
              "      <th>2021-06-04</th>\n",
              "      <td>13.0</td>\n",
              "      <td>3.78</td>\n",
              "      <td>3.73</td>\n",
              "    </tr>\n",
              "    <tr>\n",
              "      <th>...</th>\n",
              "      <td>...</td>\n",
              "      <td>...</td>\n",
              "      <td>...</td>\n",
              "    </tr>\n",
              "    <tr>\n",
              "      <th>2021-06-16</th>\n",
              "      <td>10288.0</td>\n",
              "      <td>9.70</td>\n",
              "      <td>9.52</td>\n",
              "    </tr>\n",
              "    <tr>\n",
              "      <th>2021-06-16</th>\n",
              "      <td>10471.0</td>\n",
              "      <td>9.70</td>\n",
              "      <td>9.53</td>\n",
              "    </tr>\n",
              "    <tr>\n",
              "      <th>2021-06-16</th>\n",
              "      <td>10652.0</td>\n",
              "      <td>9.71</td>\n",
              "      <td>9.53</td>\n",
              "    </tr>\n",
              "    <tr>\n",
              "      <th>2021-06-16</th>\n",
              "      <td>10800.0</td>\n",
              "      <td>9.71</td>\n",
              "      <td>9.54</td>\n",
              "    </tr>\n",
              "    <tr>\n",
              "      <th>2021-06-16</th>\n",
              "      <td>12388.0</td>\n",
              "      <td>9.76</td>\n",
              "      <td>9.58</td>\n",
              "    </tr>\n",
              "  </tbody>\n",
              "</table>\n",
              "<p>2510 rows × 3 columns</p>\n",
              "</div>"
            ],
            "text/plain": [
              "            Dias_Corridos  Curva_252  Curva_360\n",
              "Data                                           \n",
              "2021-06-04            3.0       3.40       0.00\n",
              "2021-06-04            7.0       3.74       3.82\n",
              "2021-06-04           11.0       3.76       3.41\n",
              "2021-06-04           12.0       3.77       3.59\n",
              "2021-06-04           13.0       3.78       3.73\n",
              "...                   ...        ...        ...\n",
              "2021-06-16        10288.0       9.70       9.52\n",
              "2021-06-16        10471.0       9.70       9.53\n",
              "2021-06-16        10652.0       9.71       9.53\n",
              "2021-06-16        10800.0       9.71       9.54\n",
              "2021-06-16        12388.0       9.76       9.58\n",
              "\n",
              "[2510 rows x 3 columns]"
            ]
          },
          "metadata": {
            "tags": []
          },
          "execution_count": 8
        }
      ]
    },
    {
      "cell_type": "markdown",
      "metadata": {
        "id": "XhR1ANpspRRD"
      },
      "source": [
        "> ### Download"
      ]
    },
    {
      "cell_type": "code",
      "metadata": {
        "id": "Ammte6GMX6BY"
      },
      "source": [
        "df.to_excel('taxas_ref_b3.xlsx')"
      ],
      "execution_count": 6,
      "outputs": []
    }
  ]
}